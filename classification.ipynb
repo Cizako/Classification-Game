{
 "cells": [
  {
   "cell_type": "markdown",
   "metadata": {},
   "source": [
    "Load dataset and visualize some samples"
   ]
  },
  {
   "cell_type": "code",
   "execution_count": null,
   "metadata": {},
   "outputs": [],
   "source": [
    "from torchvision import transforms, utils\n",
    "from Dataset import CustomImageDataset\n",
    "\n",
    "\n",
    "transform = transforms.Compose([\n",
    "    transforms.Resize((64, 64)), \n",
    "    transforms.ToTensor(),\n",
    "    transforms.Normalize(mean=[0.485, 0.456, 0.406], std=[0.229, 0.224, 0.225])\n",
    "])\n",
    "dataset = CustomImageDataset('data/raw-img', transform, 2, 0.1)\n",
    "\n",
    "dataset.visualize(5)\n",
    "\n",
    "dataset.visualize_all_classes()\n",
    "\n",
    "#print(dataset.nr_classes)"
   ]
  },
  {
   "cell_type": "code",
   "execution_count": 14,
   "metadata": {},
   "outputs": [],
   "source": [
    "#define model\n",
    "\n",
    "import torch.nn as nn\n",
    "import torch.nn.functional as F\n",
    "\n",
    "class ClassificationModel(nn.Module):\n",
    "    def __init__(self, num_classes=10):\n",
    "        super(ClassificationModel, self).__init__()\n",
    "        \n",
    "        # First convolutional layer: 3 input channels (RGB), 32 output channels, kernel size 5, padding 2 to preserve size\n",
    "        self.conv1 = nn.Conv2d(3, 32, kernel_size=5, padding=2)\n",
    "        \n",
    "        # Second convolutional layer: outputs a 32-channel feature map\n",
    "        self.conv2 = nn.Conv2d(32, 64, kernel_size=5, padding=2)\n",
    "        \n",
    "        # Third convolutional layer: further reduces spatial dimensions\n",
    "        self.conv3 = nn.Conv2d(64, 128, kernel_size=5, padding=2)\n",
    "\n",
    "        # Fully connected layer\n",
    "        self.fc1 = nn.Linear(128 * 8 * 8, 512)  # Adjusted for the final size after pooling\n",
    "        \n",
    "        # Prediction layer\n",
    "        self.prediction = nn.Linear(512, num_classes)\n",
    "        \n",
    "    def forward(self, x):\n",
    "        # Input size is assumed to be (batch_size, 3, 500, 500)\n",
    "        \n",
    "        # First conv -> ReLU -> Max Pooling\n",
    "        x = F.relu(self.conv1(x))\n",
    "        x = F.max_pool2d(x, kernel_size=2)  # Output: (batch_size, 32, 32, 32)\n",
    "\n",
    "        # Second conv -> ReLU -> Max Pooling\n",
    "        x = F.relu(self.conv2(x))\n",
    "        x = F.max_pool2d(x, kernel_size=2)  # Output: (batch_size, 64, 16, 16)\n",
    "\n",
    "        # Third conv -> ReLU -> Max Pooling\n",
    "        x = F.relu(self.conv3(x))\n",
    "        x = F.max_pool2d(x, kernel_size=2)  # Output: (batch_size, 128, 8, 8)\n",
    "\n",
    "        # Flatten the tensor for fully connected layer\n",
    "        x = x.view(x.size(0), -1)  # Output: (batch_size, 128 * 62 * 62)\n",
    "\n",
    "        # Fully connected layer -> ReLU\n",
    "        x = F.relu(self.fc1(x))\n",
    "\n",
    "        # Output layer (no activation, to be combined with a loss function later)\n",
    "        x = self.prediction(x)\n",
    "        x = nn.Softmax(dim=1)(x)  # Specify dim=1 to apply Softmax over class scores\n",
    "\n",
    "        return x\n",
    "    \n",
    "\n"
   ]
  },
  {
   "cell_type": "code",
   "execution_count": null,
   "metadata": {},
   "outputs": [],
   "source": [
    "from torchsummary import summary\n",
    "model = ClassificationModel(2)\n",
    "\n",
    "summary(model, (3, 64, 64))"
   ]
  },
  {
   "cell_type": "code",
   "execution_count": null,
   "metadata": {},
   "outputs": [],
   "source": [
    "from models.ClassificationModel import ClassificationModel\n",
    "from train import train\n",
    "import torch.optim\n",
    "from torch.utils.data import DataLoader, random_split\n",
    "import torch.nn as nn\n",
    "\n",
    "device = 'mps'\n",
    "\n",
    "dataset_size = len(dataset)\n",
    "train_size = int(0.1 * dataset_size)  # 80% for training\n",
    "val_size = dataset_size - train_size   # 20% for validation\n",
    "\n",
    "# Split the dataset\n",
    "train_dataset, val_dataset = random_split(dataset, [train_size, val_size])\n",
    "\n",
    "# Create DataLoaders for training and validation sets\n",
    "train_loader = DataLoader(dataset=train_dataset, batch_size=1, shuffle=True)\n",
    "val_loader = DataLoader(dataset=val_dataset, batch_size=5, shuffle=False)\n",
    "\n",
    "\n",
    "\n",
    "\n",
    "optimizer = torch.optim.Adam(model.parameters(), lr=0.001)\n",
    "criterion = nn.BCELoss()\n",
    "\n",
    "\n",
    "model.to(device)\n",
    "\n",
    "model, loss, acc = train(model, train_loader, val_loader, optimizer, criterion, device, 0 , 20, \"hej\", 1232)\n",
    "from test_model import test\n",
    "accuracy = test(model, train_loader, device, \"hej\", 1111)\n",
    "\n",
    "print(accuracy)"
   ]
  }
 ],
 "metadata": {
  "kernelspec": {
   "display_name": "Python 3",
   "language": "python",
   "name": "python3"
  },
  "language_info": {
   "codemirror_mode": {
    "name": "ipython",
    "version": 3
   },
   "file_extension": ".py",
   "mimetype": "text/x-python",
   "name": "python",
   "nbconvert_exporter": "python",
   "pygments_lexer": "ipython3",
   "version": "3.12.6"
  }
 },
 "nbformat": 4,
 "nbformat_minor": 2
}
